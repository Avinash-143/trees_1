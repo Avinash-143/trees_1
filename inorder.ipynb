{
  "nbformat": 4,
  "nbformat_minor": 0,
  "metadata": {
    "colab": {
      "provenance": []
    },
    "kernelspec": {
      "name": "python3",
      "display_name": "Python 3"
    },
    "language_info": {
      "name": "python"
    }
  },
  "cells": [
    {
      "cell_type": "code",
      "execution_count": 1,
      "metadata": {
        "colab": {
          "base_uri": "https://localhost:8080/"
        },
        "id": "JcbeNCZi2Qi6",
        "outputId": "8135f346-8e56-4855-8d9b-912cbf36d482"
      },
      "outputs": [
        {
          "output_type": "stream",
          "name": "stdout",
          "text": [
            "21.......>14.......>28.......>7.......>49.......>35.......>"
          ]
        }
      ],
      "source": [
        "class Node:\n",
        "    def __init__(self,value):\n",
        "        self.value=value\n",
        "        self.left=None\n",
        "        self.right=None\n",
        "    def inorder(self):\n",
        "\n",
        "        if self.left:\n",
        "            self.left.inorder()\n",
        "        print(str(self.value)+'.......>',end='')\n",
        "        if self.right:\n",
        "            self.right.inorder()\n",
        "\n",
        "\n",
        "\n",
        "\n",
        "\n",
        "root=Node(7)\n",
        "root.left=Node(14)\n",
        "root.right=Node(35)\n",
        "root.left.left=Node(21)\n",
        "root.left.right=Node(28)\n",
        "root.right.left=Node(42)\n",
        "root.right.left=Node(49)\n",
        "#root.inorder()\n",
        "#print('from root to left +.......>',end='')\n",
        "root.inorder()"
      ]
    }
  ]
}