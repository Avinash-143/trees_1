{
  "nbformat": 4,
  "nbformat_minor": 0,
  "metadata": {
    "colab": {
      "provenance": []
    },
    "kernelspec": {
      "name": "python3",
      "display_name": "Python 3"
    },
    "language_info": {
      "name": "python"
    }
  },
  "cells": [
    {
      "cell_type": "code",
      "execution_count": 2,
      "metadata": {
        "colab": {
          "base_uri": "https://localhost:8080/"
        },
        "id": "IoCVZk9f_WUm",
        "outputId": "4d9442de-bc67-49e0-cd0c-fb7dd55e5fb1"
      },
      "outputs": [
        {
          "output_type": "stream",
          "name": "stdout",
          "text": [
            "21.......>28.......>14.......>49.......>35.......>7.......>"
          ]
        }
      ],
      "source": [
        "class Node:\n",
        "    def __init__(self,value):\n",
        "        self.value=value\n",
        "        self.left=None\n",
        "        self.right=None\n",
        "    def postorder(self):\n",
        "\n",
        "        if self.left:\n",
        "            self.left.postorder()\n",
        "\n",
        "        if self.right:\n",
        "            self.right.postorder()\n",
        "\n",
        "        print(str(self.value)+'.......>',end='')\n",
        "\n",
        "\n",
        "\n",
        "root=Node(7)\n",
        "root.left=Node(14)\n",
        "root.right=Node(35)\n",
        "root.left.left=Node(21)\n",
        "root.left.right=Node(28)\n",
        "root.right.left=Node(42)\n",
        "root.right.left=Node(49)\n",
        "#root.inorder()\n",
        "#print('from root to left +.......>',end='')\n",
        "root.postorder()"
      ]
    },
    {
      "cell_type": "code",
      "source": [],
      "metadata": {
        "id": "1VQrk6eJ_mZ0"
      },
      "execution_count": null,
      "outputs": []
    }
  ]
}